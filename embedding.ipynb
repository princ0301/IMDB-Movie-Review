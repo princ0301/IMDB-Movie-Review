{
 "cells": [
  {
   "cell_type": "code",
   "execution_count": 2,
   "metadata": {},
   "outputs": [],
   "source": [
    "from tensorflow.keras.preprocessing.text import one_hot"
   ]
  },
  {
   "cell_type": "code",
   "execution_count": 3,
   "metadata": {},
   "outputs": [],
   "source": [
    "### sentences\n",
    "sent=[  'the glass of milk',\n",
    "     'the glass of juice',\n",
    "     'the cup of tea',\n",
    "    'I am a good boy',\n",
    "     'I am a good developer',\n",
    "     'understand the meaning of words',\n",
    "     'your videos are good',]"
   ]
  },
  {
   "cell_type": "code",
   "execution_count": 4,
   "metadata": {},
   "outputs": [
    {
     "data": {
      "text/plain": [
       "['the glass of milk',\n",
       " 'the glass of juice',\n",
       " 'the cup of tea',\n",
       " 'I am a good boy',\n",
       " 'I am a good developer',\n",
       " 'understand the meaning of words',\n",
       " 'your videos are good']"
      ]
     },
     "execution_count": 4,
     "metadata": {},
     "output_type": "execute_result"
    }
   ],
   "source": [
    "sent"
   ]
  },
  {
   "cell_type": "code",
   "execution_count": 5,
   "metadata": {},
   "outputs": [],
   "source": [
    "## Define the vocabulary size\n",
    "voc_size = 10000"
   ]
  },
  {
   "cell_type": "code",
   "execution_count": 27,
   "metadata": {},
   "outputs": [
    {
     "data": {
      "text/plain": [
       "[[39, 919, 1785, 8434],\n",
       " [39, 919, 1785, 5932],\n",
       " [39, 3109, 1785, 9169],\n",
       " [7920, 396, 4379, 6928, 5308],\n",
       " [7920, 396, 4379, 6928, 3141],\n",
       " [1082, 39, 778, 1785, 1559],\n",
       " [7577, 9378, 4192, 6928]]"
      ]
     },
     "execution_count": 27,
     "metadata": {},
     "output_type": "execute_result"
    }
   ],
   "source": [
    "### One Hot Representation\n",
    "one_hot_repr=[one_hot(words,voc_size)for words in sent]\n",
    "one_hot_repr"
   ]
  },
  {
   "cell_type": "code",
   "execution_count": 28,
   "metadata": {},
   "outputs": [],
   "source": [
    "## word Embedding Representation\n",
    "\n",
    "from tensorflow.keras.layers import Embedding\n",
    "#from tensorflow.keras.processing.sequence import pad_sequences\n",
    "from tensorflow.keras.utils import pad_sequences\n",
    "from tensorflow.keras.models import Sequential"
   ]
  },
  {
   "cell_type": "code",
   "execution_count": 8,
   "metadata": {},
   "outputs": [],
   "source": [
    "import numpy as np"
   ]
  },
  {
   "cell_type": "code",
   "execution_count": 29,
   "metadata": {},
   "outputs": [
    {
     "name": "stdout",
     "output_type": "stream",
     "text": [
      "[[   0    0    0    0   39  919 1785 8434]\n",
      " [   0    0    0    0   39  919 1785 5932]\n",
      " [   0    0    0    0   39 3109 1785 9169]\n",
      " [   0    0    0 7920  396 4379 6928 5308]\n",
      " [   0    0    0 7920  396 4379 6928 3141]\n",
      " [   0    0    0 1082   39  778 1785 1559]\n",
      " [   0    0    0    0 7577 9378 4192 6928]]\n"
     ]
    }
   ],
   "source": [
    "sent_length=8\n",
    "embedded_docs=pad_sequences(one_hot_repr,padding='pre',maxlen=sent_length)\n",
    "print(embedded_docs)"
   ]
  },
  {
   "cell_type": "code",
   "execution_count": 30,
   "metadata": {},
   "outputs": [],
   "source": [
    "## feature representation\n",
    "dim=10"
   ]
  },
  {
   "cell_type": "code",
   "execution_count": 31,
   "metadata": {},
   "outputs": [
    {
     "name": "stderr",
     "output_type": "stream",
     "text": [
      "d:\\Projects\\venv\\Lib\\site-packages\\keras\\src\\layers\\core\\embedding.py:90: UserWarning: Argument `input_length` is deprecated. Just remove it.\n",
      "  warnings.warn(\n"
     ]
    }
   ],
   "source": [
    "model=Sequential()\n",
    "model.add(Embedding(voc_size,dim,input_length=sent_length))\n",
    "model.compile('adam','mse')"
   ]
  },
  {
   "cell_type": "code",
   "execution_count": 32,
   "metadata": {},
   "outputs": [
    {
     "data": {
      "text/html": [
       "<pre style=\"white-space:pre;overflow-x:auto;line-height:normal;font-family:Menlo,'DejaVu Sans Mono',consolas,'Courier New',monospace\"><span style=\"font-weight: bold\">Model: \"sequential_5\"</span>\n",
       "</pre>\n"
      ],
      "text/plain": [
       "\u001b[1mModel: \"sequential_5\"\u001b[0m\n"
      ]
     },
     "metadata": {},
     "output_type": "display_data"
    },
    {
     "data": {
      "text/html": [
       "<pre style=\"white-space:pre;overflow-x:auto;line-height:normal;font-family:Menlo,'DejaVu Sans Mono',consolas,'Courier New',monospace\">┏━━━━━━━━━━━━━━━━━━━━━━━━━━━━━━━━━┳━━━━━━━━━━━━━━━━━━━━━━━━┳━━━━━━━━━━━━━━━┓\n",
       "┃<span style=\"font-weight: bold\"> Layer (type)                    </span>┃<span style=\"font-weight: bold\"> Output Shape           </span>┃<span style=\"font-weight: bold\">       Param # </span>┃\n",
       "┡━━━━━━━━━━━━━━━━━━━━━━━━━━━━━━━━━╇━━━━━━━━━━━━━━━━━━━━━━━━╇━━━━━━━━━━━━━━━┩\n",
       "│ embedding_4 (<span style=\"color: #0087ff; text-decoration-color: #0087ff\">Embedding</span>)         │ ?                      │   <span style=\"color: #00af00; text-decoration-color: #00af00\">0</span> (unbuilt) │\n",
       "└─────────────────────────────────┴────────────────────────┴───────────────┘\n",
       "</pre>\n"
      ],
      "text/plain": [
       "┏━━━━━━━━━━━━━━━━━━━━━━━━━━━━━━━━━┳━━━━━━━━━━━━━━━━━━━━━━━━┳━━━━━━━━━━━━━━━┓\n",
       "┃\u001b[1m \u001b[0m\u001b[1mLayer (type)                   \u001b[0m\u001b[1m \u001b[0m┃\u001b[1m \u001b[0m\u001b[1mOutput Shape          \u001b[0m\u001b[1m \u001b[0m┃\u001b[1m \u001b[0m\u001b[1m      Param #\u001b[0m\u001b[1m \u001b[0m┃\n",
       "┡━━━━━━━━━━━━━━━━━━━━━━━━━━━━━━━━━╇━━━━━━━━━━━━━━━━━━━━━━━━╇━━━━━━━━━━━━━━━┩\n",
       "│ embedding_4 (\u001b[38;5;33mEmbedding\u001b[0m)         │ ?                      │   \u001b[38;5;34m0\u001b[0m (unbuilt) │\n",
       "└─────────────────────────────────┴────────────────────────┴───────────────┘\n"
      ]
     },
     "metadata": {},
     "output_type": "display_data"
    },
    {
     "data": {
      "text/html": [
       "<pre style=\"white-space:pre;overflow-x:auto;line-height:normal;font-family:Menlo,'DejaVu Sans Mono',consolas,'Courier New',monospace\"><span style=\"font-weight: bold\"> Total params: </span><span style=\"color: #00af00; text-decoration-color: #00af00\">0</span> (0.00 B)\n",
       "</pre>\n"
      ],
      "text/plain": [
       "\u001b[1m Total params: \u001b[0m\u001b[38;5;34m0\u001b[0m (0.00 B)\n"
      ]
     },
     "metadata": {},
     "output_type": "display_data"
    },
    {
     "data": {
      "text/html": [
       "<pre style=\"white-space:pre;overflow-x:auto;line-height:normal;font-family:Menlo,'DejaVu Sans Mono',consolas,'Courier New',monospace\"><span style=\"font-weight: bold\"> Trainable params: </span><span style=\"color: #00af00; text-decoration-color: #00af00\">0</span> (0.00 B)\n",
       "</pre>\n"
      ],
      "text/plain": [
       "\u001b[1m Trainable params: \u001b[0m\u001b[38;5;34m0\u001b[0m (0.00 B)\n"
      ]
     },
     "metadata": {},
     "output_type": "display_data"
    },
    {
     "data": {
      "text/html": [
       "<pre style=\"white-space:pre;overflow-x:auto;line-height:normal;font-family:Menlo,'DejaVu Sans Mono',consolas,'Courier New',monospace\"><span style=\"font-weight: bold\"> Non-trainable params: </span><span style=\"color: #00af00; text-decoration-color: #00af00\">0</span> (0.00 B)\n",
       "</pre>\n"
      ],
      "text/plain": [
       "\u001b[1m Non-trainable params: \u001b[0m\u001b[38;5;34m0\u001b[0m (0.00 B)\n"
      ]
     },
     "metadata": {},
     "output_type": "display_data"
    }
   ],
   "source": [
    "model.summary()"
   ]
  },
  {
   "cell_type": "code",
   "execution_count": 33,
   "metadata": {},
   "outputs": [
    {
     "name": "stdout",
     "output_type": "stream",
     "text": [
      "\u001b[1m1/1\u001b[0m \u001b[32m━━━━━━━━━━━━━━━━━━━━\u001b[0m\u001b[37m\u001b[0m \u001b[1m0s\u001b[0m 121ms/step\n"
     ]
    },
    {
     "data": {
      "text/plain": [
       "array([[[ 0.01722952,  0.0308772 , -0.0245393 , -0.03439531,\n",
       "         -0.04101207,  0.03038101,  0.01769413,  0.03655108,\n",
       "          0.028435  ,  0.04687509],\n",
       "        [ 0.01722952,  0.0308772 , -0.0245393 , -0.03439531,\n",
       "         -0.04101207,  0.03038101,  0.01769413,  0.03655108,\n",
       "          0.028435  ,  0.04687509],\n",
       "        [ 0.01722952,  0.0308772 , -0.0245393 , -0.03439531,\n",
       "         -0.04101207,  0.03038101,  0.01769413,  0.03655108,\n",
       "          0.028435  ,  0.04687509],\n",
       "        [ 0.01722952,  0.0308772 , -0.0245393 , -0.03439531,\n",
       "         -0.04101207,  0.03038101,  0.01769413,  0.03655108,\n",
       "          0.028435  ,  0.04687509],\n",
       "        [ 0.02419973, -0.03886461,  0.03423426,  0.04403427,\n",
       "          0.02148681, -0.02870401, -0.03340542, -0.0403287 ,\n",
       "         -0.02154787,  0.03618269],\n",
       "        [ 0.04870775,  0.01186174,  0.04187726,  0.02586957,\n",
       "         -0.04066154,  0.03994668, -0.00338602, -0.04499118,\n",
       "         -0.0295081 ,  0.00249986],\n",
       "        [ 0.03920634, -0.0379683 , -0.02222195, -0.0409749 ,\n",
       "          0.01743542, -0.02811815, -0.01110316, -0.01431348,\n",
       "          0.01231075, -0.01968445],\n",
       "        [ 0.04178685,  0.02750509,  0.00871732, -0.00417902,\n",
       "          0.00596656,  0.01223757,  0.03131565, -0.03704957,\n",
       "          0.02143624, -0.04465041]],\n",
       "\n",
       "       [[ 0.01722952,  0.0308772 , -0.0245393 , -0.03439531,\n",
       "         -0.04101207,  0.03038101,  0.01769413,  0.03655108,\n",
       "          0.028435  ,  0.04687509],\n",
       "        [ 0.01722952,  0.0308772 , -0.0245393 , -0.03439531,\n",
       "         -0.04101207,  0.03038101,  0.01769413,  0.03655108,\n",
       "          0.028435  ,  0.04687509],\n",
       "        [ 0.01722952,  0.0308772 , -0.0245393 , -0.03439531,\n",
       "         -0.04101207,  0.03038101,  0.01769413,  0.03655108,\n",
       "          0.028435  ,  0.04687509],\n",
       "        [ 0.01722952,  0.0308772 , -0.0245393 , -0.03439531,\n",
       "         -0.04101207,  0.03038101,  0.01769413,  0.03655108,\n",
       "          0.028435  ,  0.04687509],\n",
       "        [ 0.02419973, -0.03886461,  0.03423426,  0.04403427,\n",
       "          0.02148681, -0.02870401, -0.03340542, -0.0403287 ,\n",
       "         -0.02154787,  0.03618269],\n",
       "        [ 0.04870775,  0.01186174,  0.04187726,  0.02586957,\n",
       "         -0.04066154,  0.03994668, -0.00338602, -0.04499118,\n",
       "         -0.0295081 ,  0.00249986],\n",
       "        [ 0.03920634, -0.0379683 , -0.02222195, -0.0409749 ,\n",
       "          0.01743542, -0.02811815, -0.01110316, -0.01431348,\n",
       "          0.01231075, -0.01968445],\n",
       "        [-0.030727  ,  0.01276198, -0.04213418,  0.03763573,\n",
       "          0.04473131, -0.00987792, -0.03908278,  0.02886175,\n",
       "         -0.00640674, -0.00188259]],\n",
       "\n",
       "       [[ 0.01722952,  0.0308772 , -0.0245393 , -0.03439531,\n",
       "         -0.04101207,  0.03038101,  0.01769413,  0.03655108,\n",
       "          0.028435  ,  0.04687509],\n",
       "        [ 0.01722952,  0.0308772 , -0.0245393 , -0.03439531,\n",
       "         -0.04101207,  0.03038101,  0.01769413,  0.03655108,\n",
       "          0.028435  ,  0.04687509],\n",
       "        [ 0.01722952,  0.0308772 , -0.0245393 , -0.03439531,\n",
       "         -0.04101207,  0.03038101,  0.01769413,  0.03655108,\n",
       "          0.028435  ,  0.04687509],\n",
       "        [ 0.01722952,  0.0308772 , -0.0245393 , -0.03439531,\n",
       "         -0.04101207,  0.03038101,  0.01769413,  0.03655108,\n",
       "          0.028435  ,  0.04687509],\n",
       "        [ 0.02419973, -0.03886461,  0.03423426,  0.04403427,\n",
       "          0.02148681, -0.02870401, -0.03340542, -0.0403287 ,\n",
       "         -0.02154787,  0.03618269],\n",
       "        [-0.00809275, -0.00574653, -0.02817803,  0.01166824,\n",
       "          0.03135702,  0.03921408, -0.03097842,  0.00666285,\n",
       "          0.0405197 ,  0.02457948],\n",
       "        [ 0.03920634, -0.0379683 , -0.02222195, -0.0409749 ,\n",
       "          0.01743542, -0.02811815, -0.01110316, -0.01431348,\n",
       "          0.01231075, -0.01968445],\n",
       "        [-0.04772685, -0.02865882, -0.00969192, -0.03243148,\n",
       "          0.02992162,  0.04421444,  0.00016902,  0.02200248,\n",
       "         -0.00105222,  0.03586975]],\n",
       "\n",
       "       [[ 0.01722952,  0.0308772 , -0.0245393 , -0.03439531,\n",
       "         -0.04101207,  0.03038101,  0.01769413,  0.03655108,\n",
       "          0.028435  ,  0.04687509],\n",
       "        [ 0.01722952,  0.0308772 , -0.0245393 , -0.03439531,\n",
       "         -0.04101207,  0.03038101,  0.01769413,  0.03655108,\n",
       "          0.028435  ,  0.04687509],\n",
       "        [ 0.01722952,  0.0308772 , -0.0245393 , -0.03439531,\n",
       "         -0.04101207,  0.03038101,  0.01769413,  0.03655108,\n",
       "          0.028435  ,  0.04687509],\n",
       "        [ 0.03757545,  0.01134415,  0.04625371, -0.00742345,\n",
       "          0.04728324,  0.03505402,  0.01180242,  0.01070517,\n",
       "         -0.02920864, -0.00343619],\n",
       "        [-0.0249994 , -0.03275549,  0.0429959 ,  0.03740222,\n",
       "          0.03982143, -0.01605277,  0.04712334, -0.03485559,\n",
       "          0.03390524,  0.00029752],\n",
       "        [ 0.02868268,  0.02802885, -0.03136407,  0.02251765,\n",
       "          0.02175845,  0.02643548,  0.04458122, -0.01982411,\n",
       "          0.03783451, -0.00392108],\n",
       "        [ 0.01017282,  0.00547619,  0.00791144,  0.04511994,\n",
       "         -0.01172159,  0.0399936 , -0.01136412, -0.04596665,\n",
       "         -0.00778433, -0.02426881],\n",
       "        [-0.03117688, -0.04641347, -0.02857962, -0.02457835,\n",
       "          0.04209353,  0.0303493 ,  0.02613937, -0.02462912,\n",
       "         -0.00246213,  0.0298616 ]],\n",
       "\n",
       "       [[ 0.01722952,  0.0308772 , -0.0245393 , -0.03439531,\n",
       "         -0.04101207,  0.03038101,  0.01769413,  0.03655108,\n",
       "          0.028435  ,  0.04687509],\n",
       "        [ 0.01722952,  0.0308772 , -0.0245393 , -0.03439531,\n",
       "         -0.04101207,  0.03038101,  0.01769413,  0.03655108,\n",
       "          0.028435  ,  0.04687509],\n",
       "        [ 0.01722952,  0.0308772 , -0.0245393 , -0.03439531,\n",
       "         -0.04101207,  0.03038101,  0.01769413,  0.03655108,\n",
       "          0.028435  ,  0.04687509],\n",
       "        [ 0.03757545,  0.01134415,  0.04625371, -0.00742345,\n",
       "          0.04728324,  0.03505402,  0.01180242,  0.01070517,\n",
       "         -0.02920864, -0.00343619],\n",
       "        [-0.0249994 , -0.03275549,  0.0429959 ,  0.03740222,\n",
       "          0.03982143, -0.01605277,  0.04712334, -0.03485559,\n",
       "          0.03390524,  0.00029752],\n",
       "        [ 0.02868268,  0.02802885, -0.03136407,  0.02251765,\n",
       "          0.02175845,  0.02643548,  0.04458122, -0.01982411,\n",
       "          0.03783451, -0.00392108],\n",
       "        [ 0.01017282,  0.00547619,  0.00791144,  0.04511994,\n",
       "         -0.01172159,  0.0399936 , -0.01136412, -0.04596665,\n",
       "         -0.00778433, -0.02426881],\n",
       "        [-0.02713165,  0.04936853,  0.04775519, -0.01767678,\n",
       "         -0.00634942, -0.00466729, -0.00904477,  0.03650508,\n",
       "          0.04941883, -0.01468556]],\n",
       "\n",
       "       [[ 0.01722952,  0.0308772 , -0.0245393 , -0.03439531,\n",
       "         -0.04101207,  0.03038101,  0.01769413,  0.03655108,\n",
       "          0.028435  ,  0.04687509],\n",
       "        [ 0.01722952,  0.0308772 , -0.0245393 , -0.03439531,\n",
       "         -0.04101207,  0.03038101,  0.01769413,  0.03655108,\n",
       "          0.028435  ,  0.04687509],\n",
       "        [ 0.01722952,  0.0308772 , -0.0245393 , -0.03439531,\n",
       "         -0.04101207,  0.03038101,  0.01769413,  0.03655108,\n",
       "          0.028435  ,  0.04687509],\n",
       "        [-0.02044866, -0.03611391,  0.0044181 , -0.03061111,\n",
       "          0.03857541,  0.01840149,  0.04386762,  0.02757597,\n",
       "          0.03803008,  0.0111581 ],\n",
       "        [ 0.02419973, -0.03886461,  0.03423426,  0.04403427,\n",
       "          0.02148681, -0.02870401, -0.03340542, -0.0403287 ,\n",
       "         -0.02154787,  0.03618269],\n",
       "        [ 0.00974619,  0.00087563,  0.00095428, -0.03791176,\n",
       "         -0.02847894,  0.02200312, -0.01680961,  0.00447939,\n",
       "          0.02717553, -0.04990258],\n",
       "        [ 0.03920634, -0.0379683 , -0.02222195, -0.0409749 ,\n",
       "          0.01743542, -0.02811815, -0.01110316, -0.01431348,\n",
       "          0.01231075, -0.01968445],\n",
       "        [-0.03641303, -0.04508076,  0.00975437, -0.01380439,\n",
       "          0.00302427,  0.01843381, -0.02009643,  0.02734926,\n",
       "          0.026335  ,  0.03727046]],\n",
       "\n",
       "       [[ 0.01722952,  0.0308772 , -0.0245393 , -0.03439531,\n",
       "         -0.04101207,  0.03038101,  0.01769413,  0.03655108,\n",
       "          0.028435  ,  0.04687509],\n",
       "        [ 0.01722952,  0.0308772 , -0.0245393 , -0.03439531,\n",
       "         -0.04101207,  0.03038101,  0.01769413,  0.03655108,\n",
       "          0.028435  ,  0.04687509],\n",
       "        [ 0.01722952,  0.0308772 , -0.0245393 , -0.03439531,\n",
       "         -0.04101207,  0.03038101,  0.01769413,  0.03655108,\n",
       "          0.028435  ,  0.04687509],\n",
       "        [ 0.01722952,  0.0308772 , -0.0245393 , -0.03439531,\n",
       "         -0.04101207,  0.03038101,  0.01769413,  0.03655108,\n",
       "          0.028435  ,  0.04687509],\n",
       "        [ 0.00826986, -0.02482339, -0.03668474, -0.02848318,\n",
       "          0.00103066,  0.0414318 ,  0.01253886,  0.00529664,\n",
       "         -0.0185019 , -0.04502181],\n",
       "        [ 0.02235382, -0.02604468,  0.00279205, -0.02715373,\n",
       "         -0.00939564,  0.03008969,  0.04873445,  0.02996532,\n",
       "         -0.00704348,  0.02035848],\n",
       "        [-0.03671799,  0.00618889, -0.00483453,  0.04179564,\n",
       "         -0.01663766,  0.02463168, -0.04262426, -0.01715151,\n",
       "         -0.01097168,  0.01846046],\n",
       "        [ 0.01017282,  0.00547619,  0.00791144,  0.04511994,\n",
       "         -0.01172159,  0.0399936 , -0.01136412, -0.04596665,\n",
       "         -0.00778433, -0.02426881]]], dtype=float32)"
      ]
     },
     "execution_count": 33,
     "metadata": {},
     "output_type": "execute_result"
    }
   ],
   "source": [
    "model.predict(embedded_docs)"
   ]
  },
  {
   "cell_type": "code",
   "execution_count": 34,
   "metadata": {},
   "outputs": [
    {
     "data": {
      "text/plain": [
       "array([   0,    0,    0,    0,   39,  919, 1785, 8434])"
      ]
     },
     "execution_count": 34,
     "metadata": {},
     "output_type": "execute_result"
    }
   ],
   "source": [
    "embedded_docs[0]"
   ]
  },
  {
   "cell_type": "code",
   "execution_count": 35,
   "metadata": {},
   "outputs": [
    {
     "ename": "ValueError",
     "evalue": "Exception encountered when calling Sequential.call().\n\n\u001b[1mCannot take the length of shape with unknown rank.\u001b[0m\n\nArguments received by Sequential.call():\n  • inputs=tf.Tensor(shape=<unknown>, dtype=int32)\n  • training=False\n  • mask=None",
     "output_type": "error",
     "traceback": [
      "\u001b[1;31m---------------------------------------------------------------------------\u001b[0m",
      "\u001b[1;31mValueError\u001b[0m                                Traceback (most recent call last)",
      "Cell \u001b[1;32mIn[35], line 1\u001b[0m\n\u001b[1;32m----> 1\u001b[0m \u001b[43mmodel\u001b[49m\u001b[38;5;241;43m.\u001b[39;49m\u001b[43mpredict\u001b[49m\u001b[43m(\u001b[49m\u001b[43membedded_docs\u001b[49m\u001b[43m[\u001b[49m\u001b[38;5;241;43m0\u001b[39;49m\u001b[43m]\u001b[49m\u001b[43m)\u001b[49m\n",
      "File \u001b[1;32md:\\Projects\\venv\\Lib\\site-packages\\keras\\src\\utils\\traceback_utils.py:122\u001b[0m, in \u001b[0;36mfilter_traceback.<locals>.error_handler\u001b[1;34m(*args, **kwargs)\u001b[0m\n\u001b[0;32m    119\u001b[0m     filtered_tb \u001b[38;5;241m=\u001b[39m _process_traceback_frames(e\u001b[38;5;241m.\u001b[39m__traceback__)\n\u001b[0;32m    120\u001b[0m     \u001b[38;5;66;03m# To get the full stack trace, call:\u001b[39;00m\n\u001b[0;32m    121\u001b[0m     \u001b[38;5;66;03m# `keras.config.disable_traceback_filtering()`\u001b[39;00m\n\u001b[1;32m--> 122\u001b[0m     \u001b[38;5;28;01mraise\u001b[39;00m e\u001b[38;5;241m.\u001b[39mwith_traceback(filtered_tb) \u001b[38;5;28;01mfrom\u001b[39;00m \u001b[38;5;28;01mNone\u001b[39;00m\n\u001b[0;32m    123\u001b[0m \u001b[38;5;28;01mfinally\u001b[39;00m:\n\u001b[0;32m    124\u001b[0m     \u001b[38;5;28;01mdel\u001b[39;00m filtered_tb\n",
      "File \u001b[1;32md:\\Projects\\venv\\Lib\\site-packages\\keras\\src\\utils\\traceback_utils.py:122\u001b[0m, in \u001b[0;36mfilter_traceback.<locals>.error_handler\u001b[1;34m(*args, **kwargs)\u001b[0m\n\u001b[0;32m    119\u001b[0m     filtered_tb \u001b[38;5;241m=\u001b[39m _process_traceback_frames(e\u001b[38;5;241m.\u001b[39m__traceback__)\n\u001b[0;32m    120\u001b[0m     \u001b[38;5;66;03m# To get the full stack trace, call:\u001b[39;00m\n\u001b[0;32m    121\u001b[0m     \u001b[38;5;66;03m# `keras.config.disable_traceback_filtering()`\u001b[39;00m\n\u001b[1;32m--> 122\u001b[0m     \u001b[38;5;28;01mraise\u001b[39;00m e\u001b[38;5;241m.\u001b[39mwith_traceback(filtered_tb) \u001b[38;5;28;01mfrom\u001b[39;00m \u001b[38;5;28;01mNone\u001b[39;00m\n\u001b[0;32m    123\u001b[0m \u001b[38;5;28;01mfinally\u001b[39;00m:\n\u001b[0;32m    124\u001b[0m     \u001b[38;5;28;01mdel\u001b[39;00m filtered_tb\n",
      "\u001b[1;31mValueError\u001b[0m: Exception encountered when calling Sequential.call().\n\n\u001b[1mCannot take the length of shape with unknown rank.\u001b[0m\n\nArguments received by Sequential.call():\n  • inputs=tf.Tensor(shape=<unknown>, dtype=int32)\n  • training=False\n  • mask=None"
     ]
    }
   ],
   "source": [
    "model.predict(embedded_docs[0])"
   ]
  },
  {
   "cell_type": "code",
   "execution_count": null,
   "metadata": {},
   "outputs": [],
   "source": []
  }
 ],
 "metadata": {
  "kernelspec": {
   "display_name": "Python 3",
   "language": "python",
   "name": "python3"
  },
  "language_info": {
   "codemirror_mode": {
    "name": "ipython",
    "version": 3
   },
   "file_extension": ".py",
   "mimetype": "text/x-python",
   "name": "python",
   "nbconvert_exporter": "python",
   "pygments_lexer": "ipython3",
   "version": "3.11.0"
  }
 },
 "nbformat": 4,
 "nbformat_minor": 2
}
