{
 "cells": [
  {
   "cell_type": "code",
   "execution_count": 1,
   "metadata": {},
   "outputs": [],
   "source": [
    "import numpy as np\n",
    "import tensorflow as tf\n",
    "from tensorflow.keras.datasets import imdb\n",
    "from tensorflow.keras.preprocessing import sequence\n",
    "from tensorflow.keras.models import Sequential\n",
    "from tensorflow.keras.layers import Embedding, SimpleRNN, Dense"
   ]
  },
  {
   "cell_type": "code",
   "execution_count": 2,
   "metadata": {},
   "outputs": [],
   "source": [
    "word_index = imdb.get_word_index()\n",
    "reverse_word_index = {value: key for key, value in word_index.items()}"
   ]
  },
  {
   "cell_type": "code",
   "execution_count": 3,
   "metadata": {},
   "outputs": [],
   "source": [
    "from tensorflow.keras.models import load_model"
   ]
  },
  {
   "cell_type": "code",
   "execution_count": 4,
   "metadata": {},
   "outputs": [
    {
     "name": "stderr",
     "output_type": "stream",
     "text": [
      "WARNING:absl:Compiled the loaded model, but the compiled metrics have yet to be built. `model.compile_metrics` will be empty until you train or evaluate the model.\n"
     ]
    },
    {
     "data": {
      "text/html": [
       "<pre style=\"white-space:pre;overflow-x:auto;line-height:normal;font-family:Menlo,'DejaVu Sans Mono',consolas,'Courier New',monospace\"><span style=\"font-weight: bold\">Model: \"sequential\"</span>\n",
       "</pre>\n"
      ],
      "text/plain": [
       "\u001b[1mModel: \"sequential\"\u001b[0m\n"
      ]
     },
     "metadata": {},
     "output_type": "display_data"
    },
    {
     "data": {
      "text/html": [
       "<pre style=\"white-space:pre;overflow-x:auto;line-height:normal;font-family:Menlo,'DejaVu Sans Mono',consolas,'Courier New',monospace\">┏━━━━━━━━━━━━━━━━━━━━━━━━━━━━━━━━━┳━━━━━━━━━━━━━━━━━━━━━━━━┳━━━━━━━━━━━━━━━┓\n",
       "┃<span style=\"font-weight: bold\"> Layer (type)                    </span>┃<span style=\"font-weight: bold\"> Output Shape           </span>┃<span style=\"font-weight: bold\">       Param # </span>┃\n",
       "┡━━━━━━━━━━━━━━━━━━━━━━━━━━━━━━━━━╇━━━━━━━━━━━━━━━━━━━━━━━━╇━━━━━━━━━━━━━━━┩\n",
       "│ embedding (<span style=\"color: #0087ff; text-decoration-color: #0087ff\">Embedding</span>)           │ (<span style=\"color: #00d7ff; text-decoration-color: #00d7ff\">None</span>, <span style=\"color: #00af00; text-decoration-color: #00af00\">500</span>, <span style=\"color: #00af00; text-decoration-color: #00af00\">128</span>)       │     <span style=\"color: #00af00; text-decoration-color: #00af00\">1,280,000</span> │\n",
       "├─────────────────────────────────┼────────────────────────┼───────────────┤\n",
       "│ simple_rnn (<span style=\"color: #0087ff; text-decoration-color: #0087ff\">SimpleRNN</span>)          │ (<span style=\"color: #00d7ff; text-decoration-color: #00d7ff\">None</span>, <span style=\"color: #00af00; text-decoration-color: #00af00\">128</span>)            │        <span style=\"color: #00af00; text-decoration-color: #00af00\">32,896</span> │\n",
       "├─────────────────────────────────┼────────────────────────┼───────────────┤\n",
       "│ dense (<span style=\"color: #0087ff; text-decoration-color: #0087ff\">Dense</span>)                   │ (<span style=\"color: #00d7ff; text-decoration-color: #00d7ff\">None</span>, <span style=\"color: #00af00; text-decoration-color: #00af00\">1</span>)              │           <span style=\"color: #00af00; text-decoration-color: #00af00\">129</span> │\n",
       "└─────────────────────────────────┴────────────────────────┴───────────────┘\n",
       "</pre>\n"
      ],
      "text/plain": [
       "┏━━━━━━━━━━━━━━━━━━━━━━━━━━━━━━━━━┳━━━━━━━━━━━━━━━━━━━━━━━━┳━━━━━━━━━━━━━━━┓\n",
       "┃\u001b[1m \u001b[0m\u001b[1mLayer (type)                   \u001b[0m\u001b[1m \u001b[0m┃\u001b[1m \u001b[0m\u001b[1mOutput Shape          \u001b[0m\u001b[1m \u001b[0m┃\u001b[1m \u001b[0m\u001b[1m      Param #\u001b[0m\u001b[1m \u001b[0m┃\n",
       "┡━━━━━━━━━━━━━━━━━━━━━━━━━━━━━━━━━╇━━━━━━━━━━━━━━━━━━━━━━━━╇━━━━━━━━━━━━━━━┩\n",
       "│ embedding (\u001b[38;5;33mEmbedding\u001b[0m)           │ (\u001b[38;5;45mNone\u001b[0m, \u001b[38;5;34m500\u001b[0m, \u001b[38;5;34m128\u001b[0m)       │     \u001b[38;5;34m1,280,000\u001b[0m │\n",
       "├─────────────────────────────────┼────────────────────────┼───────────────┤\n",
       "│ simple_rnn (\u001b[38;5;33mSimpleRNN\u001b[0m)          │ (\u001b[38;5;45mNone\u001b[0m, \u001b[38;5;34m128\u001b[0m)            │        \u001b[38;5;34m32,896\u001b[0m │\n",
       "├─────────────────────────────────┼────────────────────────┼───────────────┤\n",
       "│ dense (\u001b[38;5;33mDense\u001b[0m)                   │ (\u001b[38;5;45mNone\u001b[0m, \u001b[38;5;34m1\u001b[0m)              │           \u001b[38;5;34m129\u001b[0m │\n",
       "└─────────────────────────────────┴────────────────────────┴───────────────┘\n"
      ]
     },
     "metadata": {},
     "output_type": "display_data"
    },
    {
     "data": {
      "text/html": [
       "<pre style=\"white-space:pre;overflow-x:auto;line-height:normal;font-family:Menlo,'DejaVu Sans Mono',consolas,'Courier New',monospace\"><span style=\"font-weight: bold\"> Total params: </span><span style=\"color: #00af00; text-decoration-color: #00af00\">1,313,027</span> (5.01 MB)\n",
       "</pre>\n"
      ],
      "text/plain": [
       "\u001b[1m Total params: \u001b[0m\u001b[38;5;34m1,313,027\u001b[0m (5.01 MB)\n"
      ]
     },
     "metadata": {},
     "output_type": "display_data"
    },
    {
     "data": {
      "text/html": [
       "<pre style=\"white-space:pre;overflow-x:auto;line-height:normal;font-family:Menlo,'DejaVu Sans Mono',consolas,'Courier New',monospace\"><span style=\"font-weight: bold\"> Trainable params: </span><span style=\"color: #00af00; text-decoration-color: #00af00\">1,313,025</span> (5.01 MB)\n",
       "</pre>\n"
      ],
      "text/plain": [
       "\u001b[1m Trainable params: \u001b[0m\u001b[38;5;34m1,313,025\u001b[0m (5.01 MB)\n"
      ]
     },
     "metadata": {},
     "output_type": "display_data"
    },
    {
     "data": {
      "text/html": [
       "<pre style=\"white-space:pre;overflow-x:auto;line-height:normal;font-family:Menlo,'DejaVu Sans Mono',consolas,'Courier New',monospace\"><span style=\"font-weight: bold\"> Non-trainable params: </span><span style=\"color: #00af00; text-decoration-color: #00af00\">0</span> (0.00 B)\n",
       "</pre>\n"
      ],
      "text/plain": [
       "\u001b[1m Non-trainable params: \u001b[0m\u001b[38;5;34m0\u001b[0m (0.00 B)\n"
      ]
     },
     "metadata": {},
     "output_type": "display_data"
    },
    {
     "data": {
      "text/html": [
       "<pre style=\"white-space:pre;overflow-x:auto;line-height:normal;font-family:Menlo,'DejaVu Sans Mono',consolas,'Courier New',monospace\"><span style=\"font-weight: bold\"> Optimizer params: </span><span style=\"color: #00af00; text-decoration-color: #00af00\">2</span> (12.00 B)\n",
       "</pre>\n"
      ],
      "text/plain": [
       "\u001b[1m Optimizer params: \u001b[0m\u001b[38;5;34m2\u001b[0m (12.00 B)\n"
      ]
     },
     "metadata": {},
     "output_type": "display_data"
    }
   ],
   "source": [
    "# Load the pre-trained model with ReLU activation\n",
    "model = load_model('simple_rnn_imdb.h5')\n",
    "model.summary()"
   ]
  },
  {
   "cell_type": "code",
   "execution_count": 5,
   "metadata": {},
   "outputs": [
    {
     "data": {
      "text/plain": [
       "[array([[-0.15116644, -0.5729688 , -0.52577865, ...,  0.87257284,\n",
       "         -0.9544389 ,  0.62971556],\n",
       "        [-0.07769214, -0.05985378, -0.07185825, ...,  0.03964584,\n",
       "         -0.07438887,  0.06945786],\n",
       "        [-0.03880342, -0.09438309, -0.09720144, ...,  0.05065873,\n",
       "         -0.16699845,  0.15981829],\n",
       "        ...,\n",
       "        [-0.02086959, -0.02867177,  0.02620609, ...,  0.00932644,\n",
       "         -0.00870584, -0.00380564],\n",
       "        [ 0.04123564, -0.0031454 , -0.05253979, ...,  0.0560441 ,\n",
       "         -0.00595833, -0.02856215],\n",
       "        [-0.01062518, -0.06641068,  0.0396607 , ...,  0.02975406,\n",
       "         -0.0830681 , -0.00176981]], dtype=float32),\n",
       " array([[-0.00757614, -0.082179  ,  0.03495159, ..., -0.02584911,\n",
       "         -0.13040026,  0.1291531 ],\n",
       "        [ 0.00421516,  0.04468906,  0.03327615, ...,  0.02913018,\n",
       "          0.0104289 ,  0.01943544],\n",
       "        [-0.14961338,  0.02780895,  0.14862944, ...,  0.1367629 ,\n",
       "          0.01162437, -0.10312263],\n",
       "        ...,\n",
       "        [-0.099135  , -0.14268865,  0.08993228, ..., -0.00203707,\n",
       "          0.00798544, -0.07335391],\n",
       "        [ 0.0181117 ,  0.13428257, -0.01448509, ..., -0.09520959,\n",
       "          0.00267583,  0.11431907],\n",
       "        [-0.07261404, -0.1681258 , -0.18720163, ..., -0.06662466,\n",
       "          0.00120931,  0.05707262]], dtype=float32),\n",
       " array([[ 0.09984235,  0.0403148 , -0.0631544 , ..., -0.04659532,\n",
       "          0.16480093,  0.0630741 ],\n",
       "        [-0.00526366, -0.05876574,  0.09971203, ...,  0.09980413,\n",
       "          0.03999181, -0.04325309],\n",
       "        [-0.08212105, -0.08058877, -0.02673209, ..., -0.01892041,\n",
       "         -0.10335556, -0.00106215],\n",
       "        ...,\n",
       "        [-0.00986759,  0.13835943, -0.01594691, ..., -0.10080458,\n",
       "         -0.10302902,  0.06367799],\n",
       "        [-0.07181516, -0.08670864,  0.02338281, ..., -0.04655673,\n",
       "         -0.06191565,  0.03690361],\n",
       "        [-0.05043053, -0.10057566, -0.079048  , ...,  0.13359661,\n",
       "         -0.0056815 ,  0.1660234 ]], dtype=float32),\n",
       " array([-0.00367271, -0.01690914, -0.00384138,  0.00563572, -0.02186326,\n",
       "        -0.03530655,  0.01665843, -0.03125959,  0.01408335, -0.0264568 ,\n",
       "        -0.03217727, -0.02614541,  0.01027318,  0.03056018, -0.02502612,\n",
       "         0.0271836 ,  0.0182611 , -0.04763328, -0.06814599,  0.00698531,\n",
       "        -0.00135014, -0.01865277, -0.0009846 , -0.02442331, -0.00981146,\n",
       "        -0.03487926,  0.00169686, -0.02811235,  0.01150249, -0.02429007,\n",
       "         0.03593471,  0.00163867,  0.01070989, -0.02996234, -0.00964954,\n",
       "         0.02202236, -0.02504025, -0.03264004,  0.03203974, -0.0215304 ,\n",
       "         0.06845636, -0.04756726, -0.00989917, -0.01522501, -0.01089962,\n",
       "        -0.00900954,  0.0318244 , -0.01298787,  0.00155199, -0.00892736,\n",
       "         0.00071418, -0.00726032,  0.0372749 , -0.03331436,  0.01797234,\n",
       "        -0.03494395, -0.04712683, -0.00223714,  0.0434465 , -0.01468938,\n",
       "        -0.00182152, -0.01301982,  0.00545061,  0.01215057,  0.03064718,\n",
       "        -0.00085966, -0.02100208,  0.00805552,  0.02688047, -0.00937908,\n",
       "        -0.03605693, -0.02137465,  0.00826355, -0.02262758, -0.0429643 ,\n",
       "        -0.03096227,  0.00078755, -0.04870959,  0.00924936, -0.0009523 ,\n",
       "        -0.01040647,  0.01712151, -0.02176932,  0.0356661 , -0.01500994,\n",
       "        -0.01249844,  0.03158081, -0.02375772,  0.00444384, -0.00875039,\n",
       "        -0.0416364 , -0.0183144 , -0.01275001,  0.01911813, -0.02545522,\n",
       "        -0.03242814, -0.03703474,  0.0015118 , -0.00300651, -0.00148153,\n",
       "        -0.03334073,  0.00722532, -0.00884311, -0.02371007, -0.01088116,\n",
       "        -0.01498685, -0.00477941, -0.01987975, -0.0326418 ,  0.02658755,\n",
       "        -0.01612512, -0.01917472,  0.00528428,  0.01000941,  0.02841662,\n",
       "        -0.02867609, -0.02376462, -0.04021222, -0.00649052, -0.02060951,\n",
       "        -0.02738129, -0.02447698,  0.13644686,  0.00656297, -0.02370108,\n",
       "        -0.03559927, -0.01386059, -0.01399275], dtype=float32),\n",
       " array([[-0.02689972],\n",
       "        [-0.22406183],\n",
       "        [ 0.1052205 ],\n",
       "        [ 0.06666781],\n",
       "        [-0.00525687],\n",
       "        [ 0.10806037],\n",
       "        [-0.00617396],\n",
       "        [ 0.07364716],\n",
       "        [ 0.08746026],\n",
       "        [ 0.04418892],\n",
       "        [ 0.0534507 ],\n",
       "        [-0.1335271 ],\n",
       "        [ 0.23377335],\n",
       "        [ 0.11564229],\n",
       "        [ 0.00068799],\n",
       "        [ 0.01749461],\n",
       "        [-0.2228656 ],\n",
       "        [ 0.10597838],\n",
       "        [-0.18110687],\n",
       "        [ 0.12271666],\n",
       "        [-0.00512794],\n",
       "        [ 0.02215871],\n",
       "        [-0.06082562],\n",
       "        [-0.12356523],\n",
       "        [-0.1361332 ],\n",
       "        [ 0.12086206],\n",
       "        [ 0.00687364],\n",
       "        [ 0.1935772 ],\n",
       "        [-0.29694778],\n",
       "        [-0.06868441],\n",
       "        [ 0.1297292 ],\n",
       "        [ 0.15247767],\n",
       "        [ 0.05879579],\n",
       "        [ 0.14262195],\n",
       "        [ 0.0257772 ],\n",
       "        [-0.23235652],\n",
       "        [-0.0419822 ],\n",
       "        [ 0.04455731],\n",
       "        [-0.08640496],\n",
       "        [-0.10336425],\n",
       "        [-0.06496388],\n",
       "        [ 0.07209081],\n",
       "        [ 0.19183147],\n",
       "        [ 0.05113008],\n",
       "        [ 0.2035678 ],\n",
       "        [ 0.0387098 ],\n",
       "        [ 0.17036451],\n",
       "        [-0.03236262],\n",
       "        [ 0.10184769],\n",
       "        [-0.17623124],\n",
       "        [ 0.01487497],\n",
       "        [-0.09501657],\n",
       "        [ 0.08329868],\n",
       "        [ 0.42136186],\n",
       "        [ 0.24426588],\n",
       "        [ 0.0145713 ],\n",
       "        [-0.04023214],\n",
       "        [ 0.14460385],\n",
       "        [-0.14571652],\n",
       "        [ 0.13692538],\n",
       "        [-0.11012281],\n",
       "        [-0.22852856],\n",
       "        [-0.09005295],\n",
       "        [-0.09046599],\n",
       "        [-0.14261   ],\n",
       "        [-0.03395679],\n",
       "        [-0.12431114],\n",
       "        [-0.05750484],\n",
       "        [ 0.42171925],\n",
       "        [-0.2192596 ],\n",
       "        [-0.21909149],\n",
       "        [ 0.36933243],\n",
       "        [-0.19060235],\n",
       "        [-0.06987276],\n",
       "        [-0.13374098],\n",
       "        [ 0.18277337],\n",
       "        [-0.10518228],\n",
       "        [-0.10151132],\n",
       "        [-0.10849001],\n",
       "        [-0.222532  ],\n",
       "        [ 0.10329742],\n",
       "        [-0.12397001],\n",
       "        [ 0.18223092],\n",
       "        [-0.01775814],\n",
       "        [-0.2361848 ],\n",
       "        [ 0.15786386],\n",
       "        [ 0.10701364],\n",
       "        [ 0.12565668],\n",
       "        [-0.10406852],\n",
       "        [ 0.11985679],\n",
       "        [-0.14839992],\n",
       "        [ 0.10323121],\n",
       "        [-0.20129114],\n",
       "        [-0.01157934],\n",
       "        [ 0.18108317],\n",
       "        [ 0.09545399],\n",
       "        [ 0.04567248],\n",
       "        [ 0.18057995],\n",
       "        [ 0.05379315],\n",
       "        [-0.00969049],\n",
       "        [-0.06369784],\n",
       "        [ 0.03625825],\n",
       "        [-0.05461334],\n",
       "        [ 0.0567286 ],\n",
       "        [ 0.20709044],\n",
       "        [ 0.1638873 ],\n",
       "        [-0.15266335],\n",
       "        [ 0.19740187],\n",
       "        [ 0.0872544 ],\n",
       "        [ 0.02622162],\n",
       "        [ 0.04711078],\n",
       "        [ 0.12350075],\n",
       "        [ 0.23167494],\n",
       "        [ 0.10757612],\n",
       "        [-0.00560073],\n",
       "        [ 0.1127078 ],\n",
       "        [-0.05641491],\n",
       "        [ 0.12767771],\n",
       "        [-0.1556478 ],\n",
       "        [-0.28598163],\n",
       "        [ 0.03202614],\n",
       "        [-0.18540327],\n",
       "        [ 0.43019742],\n",
       "        [ 0.02100945],\n",
       "        [-0.13076806],\n",
       "        [ 0.07117839],\n",
       "        [-0.12282725],\n",
       "        [-0.13764125]], dtype=float32),\n",
       " array([0.5158085], dtype=float32)]"
      ]
     },
     "execution_count": 5,
     "metadata": {},
     "output_type": "execute_result"
    }
   ],
   "source": [
    "model.get_weights()"
   ]
  },
  {
   "cell_type": "code",
   "execution_count": 6,
   "metadata": {},
   "outputs": [],
   "source": [
    "# Step 2: Helper Functions\n",
    "# Function to decode reviews\n",
    "def decode_review(encoded_review):\n",
    "    return ' '.join([reverse_word_index.get(i - 3, '?') for i in encoded_review])\n",
    "\n",
    "# Function to preprocess user input\n",
    "def preprocess_text(text):\n",
    "    words = text.lower().split()\n",
    "    encoded_review = [word_index.get(word, 2) + 3 for word in words]\n",
    "    padded_review = sequence.pad_sequences([encoded_review], maxlen=500)\n",
    "    return padded_review"
   ]
  },
  {
   "cell_type": "code",
   "execution_count": 7,
   "metadata": {},
   "outputs": [],
   "source": [
    "### Prediction  function\n",
    "\n",
    "def predict_sentiment(review):\n",
    "    preprocessed_input=preprocess_text(review)\n",
    "\n",
    "    prediction=model.predict(preprocessed_input)\n",
    "\n",
    "    sentiment = 'Positive' if prediction[0][0] > 0.5 else 'Negative'\n",
    "    \n",
    "    return sentiment, prediction[0][0]\n",
    "\n"
   ]
  },
  {
   "cell_type": "code",
   "execution_count": 8,
   "metadata": {},
   "outputs": [
    {
     "name": "stdout",
     "output_type": "stream",
     "text": [
      "\u001b[1m1/1\u001b[0m \u001b[32m━━━━━━━━━━━━━━━━━━━━\u001b[0m\u001b[37m\u001b[0m \u001b[1m0s\u001b[0m 223ms/step\n",
      "Review: This movie was fantastic! The acting was great and the plot was thrilling.\n",
      "Sentiment: Positive\n",
      "Prediction Score: 0.6051991581916809\n"
     ]
    }
   ],
   "source": [
    "# Step 4: User Input and Prediction\n",
    "# Example review for prediction\n",
    "example_review = \"This movie was fantastic! The acting was great and the plot was thrilling.\"\n",
    "\n",
    "sentiment,score=predict_sentiment(example_review)\n",
    "\n",
    "print(f'Review: {example_review}')\n",
    "print(f'Sentiment: {sentiment}')\n",
    "print(f'Prediction Score: {score}')"
   ]
  },
  {
   "cell_type": "code",
   "execution_count": null,
   "metadata": {},
   "outputs": [],
   "source": []
  }
 ],
 "metadata": {
  "kernelspec": {
   "display_name": "Python 3",
   "language": "python",
   "name": "python3"
  },
  "language_info": {
   "codemirror_mode": {
    "name": "ipython",
    "version": 3
   },
   "file_extension": ".py",
   "mimetype": "text/x-python",
   "name": "python",
   "nbconvert_exporter": "python",
   "pygments_lexer": "ipython3",
   "version": "3.11.0"
  }
 },
 "nbformat": 4,
 "nbformat_minor": 2
}
